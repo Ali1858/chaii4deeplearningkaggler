{
  "nbformat": 4,
  "nbformat_minor": 5,
  "metadata": {
    "kernelspec": {
      "display_name": "Python 3",
      "language": "python",
      "name": "python3"
    },
    "language_info": {
      "codemirror_mode": {
        "name": "ipython",
        "version": 3
      },
      "file_extension": ".py",
      "mimetype": "text/x-python",
      "name": "python",
      "nbconvert_exporter": "python",
      "pygments_lexer": "ipython3",
      "version": "3.7.6"
    },
    "colab": {
      "name": "merging_datasets.ipynb",
      "provenance": []
    }
  },
  "cells": [
    {
      "cell_type": "markdown",
      "metadata": {
        "id": "f662844e"
      },
      "source": [
        "# Merging different datasets for fine-tuning\n",
        "\n",
        "1. chaii -- https://www.kaggle.com/c/chaii-hindi-and-tamil-question-answering/data\n",
        "2. Squad_Translated_to_Tamil -- https://www.kaggle.com/msafi04/squad-translated-to-tamil-for-chaii\n",
        "3. XQA - https://www.kaggle.com/mdhamani/preprocessed-xqa-tamil\n",
        "4. xquad - https://github.com/deepmind/xquad -- xquad.hi.json \n",
        "       -  https://www.kaggle.com/rhtsingh/mlqa-hindi-processed?select=xquad.csv\n",
        "5. mlqa -- https://github.com/facebookresearch/MLQA\n",
        "       -  https://www.kaggle.com/rhtsingh/mlqa-hindi-processed?select=xquad.csv\n",
        "6. mmqa -- https://github.com/deepaknlp/MMQA"
      ],
      "id": "f662844e"
    },
    {
      "cell_type": "code",
      "metadata": {
        "id": "31df26de"
      },
      "source": [
        "# _importing required libraries\n",
        "import os\n",
        "import json\n",
        "import uuid\n",
        "\n",
        "# _external libraries\n",
        "import pandas as pd"
      ],
      "id": "31df26de",
      "execution_count": null,
      "outputs": []
    },
    {
      "cell_type": "markdown",
      "metadata": {
        "id": "2605748e"
      },
      "source": [
        "## Target/Interested columns in all datasets\n",
        "\n",
        "1. context\n",
        "2. question\n",
        "3. answer_text\n",
        "4. answer_start"
      ],
      "id": "2605748e"
    },
    {
      "cell_type": "code",
      "metadata": {
        "id": "2f582454"
      },
      "source": [
        "target_cols = ['context', 'question', 'answer_text', 'answer_start']"
      ],
      "id": "2f582454",
      "execution_count": null,
      "outputs": []
    },
    {
      "cell_type": "code",
      "metadata": {
        "id": "f3bc945d"
      },
      "source": [
        "def load_csvtodf(filepath):\n",
        "    \n",
        "    df = pd.read_csv(filepath)\n",
        "    df = df[target_cols]\n",
        "    \n",
        "    return df"
      ],
      "id": "f3bc945d",
      "execution_count": null,
      "outputs": []
    },
    {
      "cell_type": "code",
      "metadata": {
        "id": "a0284aff"
      },
      "source": [
        "def load_jsontodf(filepath):\n",
        "    \n",
        "    data_dict = json.loads(filepath)\n",
        "    df = pd.Dataframe.from_dict(data_dict)\n",
        "    \n",
        "    return df"
      ],
      "id": "a0284aff",
      "execution_count": null,
      "outputs": []
    },
    {
      "cell_type": "markdown",
      "metadata": {
        "id": "94afcb15"
      },
      "source": [
        "## 1. Chaii dataset"
      ],
      "id": "94afcb15"
    },
    {
      "cell_type": "code",
      "metadata": {
        "id": "fbd72d18",
        "outputId": "5f0bcf53-d51e-491b-b9e5-819414da9434"
      },
      "source": [
        "chaii_df = load_csvtodf(os.getcwd() + '/../datasets/chaii/train.csv')\n",
        "chaii_df.sample(1)"
      ],
      "id": "fbd72d18",
      "execution_count": null,
      "outputs": [
        {
          "data": {
            "text/html": [
              "<div>\n",
              "<style scoped>\n",
              "    .dataframe tbody tr th:only-of-type {\n",
              "        vertical-align: middle;\n",
              "    }\n",
              "\n",
              "    .dataframe tbody tr th {\n",
              "        vertical-align: top;\n",
              "    }\n",
              "\n",
              "    .dataframe thead th {\n",
              "        text-align: right;\n",
              "    }\n",
              "</style>\n",
              "<table border=\"1\" class=\"dataframe\">\n",
              "  <thead>\n",
              "    <tr style=\"text-align: right;\">\n",
              "      <th></th>\n",
              "      <th>context</th>\n",
              "      <th>question</th>\n",
              "      <th>answer_text</th>\n",
              "      <th>answer_start</th>\n",
              "    </tr>\n",
              "  </thead>\n",
              "  <tbody>\n",
              "    <tr>\n",
              "      <th>650</th>\n",
              "      <td>नेस्ले या Nestlé S.A. एक बहुराष्ट्रीय कम्पनी ह...</td>\n",
              "      <td>नेस्ले कंपनी का मुख्यालय कहाँ स्थित है?</td>\n",
              "      <td>स्विटज़रलैंड के वेवे शहर</td>\n",
              "      <td>116</td>\n",
              "    </tr>\n",
              "  </tbody>\n",
              "</table>\n",
              "</div>"
            ],
            "text/plain": [
              "                                               context  \\\n",
              "650  नेस्ले या Nestlé S.A. एक बहुराष्ट्रीय कम्पनी ह...   \n",
              "\n",
              "                                    question               answer_text  \\\n",
              "650  नेस्ले कंपनी का मुख्यालय कहाँ स्थित है?  स्विटज़रलैंड के वेवे शहर   \n",
              "\n",
              "     answer_start  \n",
              "650           116  "
            ]
          },
          "execution_count": 31,
          "metadata": {},
          "output_type": "execute_result"
        }
      ]
    },
    {
      "cell_type": "markdown",
      "metadata": {
        "id": "4fcb43d0"
      },
      "source": [
        "## 2. Squad_Translated_to_Tamil (stt)"
      ],
      "id": "4fcb43d0"
    },
    {
      "cell_type": "code",
      "metadata": {
        "id": "c3bf0156",
        "outputId": "76619f55-c98d-4797-9f28-50a5ff2ce6c4"
      },
      "source": [
        "stt_df = load_csvtodf(os.getcwd() + '/../datasets/Squad_Translated_to_Tamil/squad_translated_tamil.csv')\n",
        "stt_df.sample(1)"
      ],
      "id": "c3bf0156",
      "execution_count": null,
      "outputs": [
        {
          "data": {
            "text/html": [
              "<div>\n",
              "<style scoped>\n",
              "    .dataframe tbody tr th:only-of-type {\n",
              "        vertical-align: middle;\n",
              "    }\n",
              "\n",
              "    .dataframe tbody tr th {\n",
              "        vertical-align: top;\n",
              "    }\n",
              "\n",
              "    .dataframe thead th {\n",
              "        text-align: right;\n",
              "    }\n",
              "</style>\n",
              "<table border=\"1\" class=\"dataframe\">\n",
              "  <thead>\n",
              "    <tr style=\"text-align: right;\">\n",
              "      <th></th>\n",
              "      <th>context</th>\n",
              "      <th>question</th>\n",
              "      <th>answer_text</th>\n",
              "      <th>answer_start</th>\n",
              "    </tr>\n",
              "  </thead>\n",
              "  <tbody>\n",
              "    <tr>\n",
              "      <th>1924</th>\n",
              "      <td>நகரத்தின் நகராட்சி அரசாங்கம் சுமார் 12-15 வணிக...</td>\n",
              "      <td>எத்தனை குடிமக்கள் கார்க் முதலில் இருந்தார்கள்?</td>\n",
              "      <td>சுமார் 2,100</td>\n",
              "      <td>284.0</td>\n",
              "    </tr>\n",
              "  </tbody>\n",
              "</table>\n",
              "</div>"
            ],
            "text/plain": [
              "                                                context  \\\n",
              "1924  நகரத்தின் நகராட்சி அரசாங்கம் சுமார் 12-15 வணிக...   \n",
              "\n",
              "                                            question   answer_text  \\\n",
              "1924  எத்தனை குடிமக்கள் கார்க் முதலில் இருந்தார்கள்?  சுமார் 2,100   \n",
              "\n",
              "      answer_start  \n",
              "1924         284.0  "
            ]
          },
          "execution_count": 32,
          "metadata": {},
          "output_type": "execute_result"
        }
      ]
    },
    {
      "cell_type": "markdown",
      "metadata": {
        "id": "cd244b3a"
      },
      "source": [
        "## 3. XQA processed dataset"
      ],
      "id": "cd244b3a"
    },
    {
      "cell_type": "code",
      "metadata": {
        "id": "222d0d43",
        "outputId": "801cac3d-2cd8-418f-ed6e-1671bf0628db"
      },
      "source": [
        "xqa_dataset_paths = ['/../datasets/xqa/XQA_tamil_dev_query.csv', '/../datasets/xqa/XQA_tamil_dev.csv', '/../datasets/xqa/XQA_tamil_test_query.csv', '/../datasets/xqa/XQA_tamil_test.csv']\n",
        "xqa_df_list = []\n",
        "\n",
        "for dataset_path in xqa_dataset_paths:\n",
        "    xqa_df_list.append(load_csvtodf(os.getcwd()+dataset_path))\n",
        "    \n",
        "xqa_df = pd.concat(xqa_df_list, ignore_index=True)\n",
        "xqa_df.sample(1)"
      ],
      "id": "222d0d43",
      "execution_count": null,
      "outputs": [
        {
          "data": {
            "text/html": [
              "<div>\n",
              "<style scoped>\n",
              "    .dataframe tbody tr th:only-of-type {\n",
              "        vertical-align: middle;\n",
              "    }\n",
              "\n",
              "    .dataframe tbody tr th {\n",
              "        vertical-align: top;\n",
              "    }\n",
              "\n",
              "    .dataframe thead th {\n",
              "        text-align: right;\n",
              "    }\n",
              "</style>\n",
              "<table border=\"1\" class=\"dataframe\">\n",
              "  <thead>\n",
              "    <tr style=\"text-align: right;\">\n",
              "      <th></th>\n",
              "      <th>context</th>\n",
              "      <th>question</th>\n",
              "      <th>answer_text</th>\n",
              "      <th>answer_start</th>\n",
              "    </tr>\n",
              "  </thead>\n",
              "  <tbody>\n",
              "    <tr>\n",
              "      <th>10200</th>\n",
              "      <td>யூதம், கிறித்தவம், இசுலாம் என்பன எசேக்கியேலை எ...</td>\n",
              "      <td>உலக சனத்தொகையில் 54% மக்கள் (3.8 மில்லியன் மக்...</td>\n",
              "      <td>ஆபிரகாமிய சமயங்கள்</td>\n",
              "      <td>-1</td>\n",
              "    </tr>\n",
              "  </tbody>\n",
              "</table>\n",
              "</div>"
            ],
            "text/plain": [
              "                                                 context  \\\n",
              "10200  யூதம், கிறித்தவம், இசுலாம் என்பன எசேக்கியேலை எ...   \n",
              "\n",
              "                                                question         answer_text  \\\n",
              "10200  உலக சனத்தொகையில் 54% மக்கள் (3.8 மில்லியன் மக்...  ஆபிரகாமிய சமயங்கள்   \n",
              "\n",
              "       answer_start  \n",
              "10200            -1  "
            ]
          },
          "execution_count": 33,
          "metadata": {},
          "output_type": "execute_result"
        }
      ]
    },
    {
      "cell_type": "markdown",
      "metadata": {
        "id": "f6e74dee"
      },
      "source": [
        "## 4. Xquad dataset"
      ],
      "id": "f6e74dee"
    },
    {
      "cell_type": "code",
      "metadata": {
        "id": "2eaf3244",
        "outputId": "378568e3-4918-4789-f3ca-c4c072bf7600"
      },
      "source": [
        "xquad_df = load_csvtodf(os.getcwd() + '/../datasets/tamil_xquad/xquad.csv')\n",
        "xquad_df.sample(1)"
      ],
      "id": "2eaf3244",
      "execution_count": null,
      "outputs": [
        {
          "data": {
            "text/html": [
              "<div>\n",
              "<style scoped>\n",
              "    .dataframe tbody tr th:only-of-type {\n",
              "        vertical-align: middle;\n",
              "    }\n",
              "\n",
              "    .dataframe tbody tr th {\n",
              "        vertical-align: top;\n",
              "    }\n",
              "\n",
              "    .dataframe thead th {\n",
              "        text-align: right;\n",
              "    }\n",
              "</style>\n",
              "<table border=\"1\" class=\"dataframe\">\n",
              "  <thead>\n",
              "    <tr style=\"text-align: right;\">\n",
              "      <th></th>\n",
              "      <th>context</th>\n",
              "      <th>question</th>\n",
              "      <th>answer_text</th>\n",
              "      <th>answer_start</th>\n",
              "    </tr>\n",
              "  </thead>\n",
              "  <tbody>\n",
              "    <tr>\n",
              "      <th>807</th>\n",
              "      <td>यह विश्वविद्यालय ग्यारह अलग-अलग शैक्षणिक इकाइय...</td>\n",
              "      <td>अमेरिका के किस प्रमुख शहर में हार्वर्ड विश्ववि...</td>\n",
              "      <td>बोस्टन</td>\n",
              "      <td>138</td>\n",
              "    </tr>\n",
              "  </tbody>\n",
              "</table>\n",
              "</div>"
            ],
            "text/plain": [
              "                                               context  \\\n",
              "807  यह विश्वविद्यालय ग्यारह अलग-अलग शैक्षणिक इकाइय...   \n",
              "\n",
              "                                              question answer_text  \\\n",
              "807  अमेरिका के किस प्रमुख शहर में हार्वर्ड विश्ववि...      बोस्टन   \n",
              "\n",
              "     answer_start  \n",
              "807           138  "
            ]
          },
          "execution_count": 36,
          "metadata": {},
          "output_type": "execute_result"
        }
      ]
    },
    {
      "cell_type": "markdown",
      "metadata": {
        "id": "d8753e81"
      },
      "source": [
        "## 5. Mlqa dataset"
      ],
      "id": "d8753e81"
    },
    {
      "cell_type": "code",
      "metadata": {
        "id": "8e50d345",
        "outputId": "417903fc-d7b5-49e0-eb22-310a300ede3a"
      },
      "source": [
        "mlqa_df = load_csvtodf(os.getcwd() + '/../datasets/mlqa/mlqa_hindi.csv')\n",
        "mlqa_df.sample(1)"
      ],
      "id": "8e50d345",
      "execution_count": null,
      "outputs": [
        {
          "data": {
            "text/html": [
              "<div>\n",
              "<style scoped>\n",
              "    .dataframe tbody tr th:only-of-type {\n",
              "        vertical-align: middle;\n",
              "    }\n",
              "\n",
              "    .dataframe tbody tr th {\n",
              "        vertical-align: top;\n",
              "    }\n",
              "\n",
              "    .dataframe thead th {\n",
              "        text-align: right;\n",
              "    }\n",
              "</style>\n",
              "<table border=\"1\" class=\"dataframe\">\n",
              "  <thead>\n",
              "    <tr style=\"text-align: right;\">\n",
              "      <th></th>\n",
              "      <th>context</th>\n",
              "      <th>question</th>\n",
              "      <th>answer_text</th>\n",
              "      <th>answer_start</th>\n",
              "    </tr>\n",
              "  </thead>\n",
              "  <tbody>\n",
              "    <tr>\n",
              "      <th>1226</th>\n",
              "      <td>176,214 किमी2 (68,037 वर्ग मील) महाद्वीपीय भूम...</td>\n",
              "      <td>उरुग्वे का तट कितने मील की दूरी पर है?</td>\n",
              "      <td>(410</td>\n",
              "      <td>430</td>\n",
              "    </tr>\n",
              "  </tbody>\n",
              "</table>\n",
              "</div>"
            ],
            "text/plain": [
              "                                                context  \\\n",
              "1226  176,214 किमी2 (68,037 वर्ग मील) महाद्वीपीय भूम...   \n",
              "\n",
              "                                    question answer_text  answer_start  \n",
              "1226  उरुग्वे का तट कितने मील की दूरी पर है?        (410           430  "
            ]
          },
          "execution_count": 37,
          "metadata": {},
          "output_type": "execute_result"
        }
      ]
    },
    {
      "cell_type": "markdown",
      "metadata": {
        "id": "e6492f90"
      },
      "source": [
        "## Merging datasets"
      ],
      "id": "e6492f90"
    },
    {
      "cell_type": "code",
      "metadata": {
        "id": "6a776004",
        "outputId": "84f36abc-5168-4aaa-c349-d221801636b4"
      },
      "source": [
        "final_df = pd.concat([chaii_df, stt_df, xquad_df, mlqa_df], ignore_index=True)\n",
        "final_df = final_df.astype({\"answer_start\": 'int64'})\n",
        "final_df.sample(1)"
      ],
      "id": "6a776004",
      "execution_count": null,
      "outputs": [
        {
          "data": {
            "text/html": [
              "<div>\n",
              "<style scoped>\n",
              "    .dataframe tbody tr th:only-of-type {\n",
              "        vertical-align: middle;\n",
              "    }\n",
              "\n",
              "    .dataframe tbody tr th {\n",
              "        vertical-align: top;\n",
              "    }\n",
              "\n",
              "    .dataframe thead th {\n",
              "        text-align: right;\n",
              "    }\n",
              "</style>\n",
              "<table border=\"1\" class=\"dataframe\">\n",
              "  <thead>\n",
              "    <tr style=\"text-align: right;\">\n",
              "      <th></th>\n",
              "      <th>context</th>\n",
              "      <th>question</th>\n",
              "      <th>answer_text</th>\n",
              "      <th>answer_start</th>\n",
              "    </tr>\n",
              "  </thead>\n",
              "  <tbody>\n",
              "    <tr>\n",
              "      <th>6517</th>\n",
              "      <td>स्वास्थ्य जोखिम के लिए दाताओं का परीक्षण किया ...</td>\n",
              "      <td>वास्तव में रक्तदान करने से पहले रक्तदाताओं की ...</td>\n",
              "      <td>स्वास्थ्य जोखिम</td>\n",
              "      <td>0.0</td>\n",
              "    </tr>\n",
              "  </tbody>\n",
              "</table>\n",
              "</div>"
            ],
            "text/plain": [
              "                                                context  \\\n",
              "6517  स्वास्थ्य जोखिम के लिए दाताओं का परीक्षण किया ...   \n",
              "\n",
              "                                               question      answer_text  \\\n",
              "6517  वास्तव में रक्तदान करने से पहले रक्तदाताओं की ...  स्वास्थ्य जोखिम   \n",
              "\n",
              "      answer_start  \n",
              "6517           0.0  "
            ]
          },
          "execution_count": 40,
          "metadata": {},
          "output_type": "execute_result"
        }
      ]
    },
    {
      "cell_type": "code",
      "metadata": {
        "id": "9ff19d58",
        "outputId": "ced67cb7-5080-47df-bb31-e099307b2e32"
      },
      "source": [
        "final_df['id'] = final_df.apply(lambda x:uuid.uuid1(), axis=1)\n",
        "final_df.sample(3)"
      ],
      "id": "9ff19d58",
      "execution_count": null,
      "outputs": [
        {
          "data": {
            "text/html": [
              "<div>\n",
              "<style scoped>\n",
              "    .dataframe tbody tr th:only-of-type {\n",
              "        vertical-align: middle;\n",
              "    }\n",
              "\n",
              "    .dataframe tbody tr th {\n",
              "        vertical-align: top;\n",
              "    }\n",
              "\n",
              "    .dataframe thead th {\n",
              "        text-align: right;\n",
              "    }\n",
              "</style>\n",
              "<table border=\"1\" class=\"dataframe\">\n",
              "  <thead>\n",
              "    <tr style=\"text-align: right;\">\n",
              "      <th></th>\n",
              "      <th>context</th>\n",
              "      <th>question</th>\n",
              "      <th>answer_text</th>\n",
              "      <th>answer_start</th>\n",
              "      <th>id</th>\n",
              "    </tr>\n",
              "  </thead>\n",
              "  <tbody>\n",
              "    <tr>\n",
              "      <th>2602</th>\n",
              "      <td>Monopole Antennas ஒரு உலோக கம்பி போன்ற ஒரு ஒற்...</td>\n",
              "      <td>செங்குத்து துருவமுனைப்பு என்ன?</td>\n",
              "      <td>மோனோபோல்</td>\n",
              "      <td>682</td>\n",
              "      <td>e2444a3a-28de-11ec-83f3-1e003a3c7126</td>\n",
              "    </tr>\n",
              "    <tr>\n",
              "      <th>11041</th>\n",
              "      <td>आधुनिक टायर निर्माण में मूल रूप से रबड़, कपड़े...</td>\n",
              "      <td>कौनसे दो पहियों के वाहन अभी तक वायु से भरे हुए...</td>\n",
              "      <td>साइकिल, मोटरसाइकिल</td>\n",
              "      <td>534</td>\n",
              "      <td>e24b93b2-28de-11ec-83f3-1e003a3c7126</td>\n",
              "    </tr>\n",
              "    <tr>\n",
              "      <th>108</th>\n",
              "      <td>ஐசக் நியூட்டன் (டிசம்பர் 25, 1642 – மார்ச் 20,...</td>\n",
              "      <td>ஐசக் நியூட்டன் எப்பொழுது பிறந்தார்?</td>\n",
              "      <td>டிசம்பர் 25, 1642</td>\n",
              "      <td>16</td>\n",
              "      <td>e240c252-28de-11ec-83f3-1e003a3c7126</td>\n",
              "    </tr>\n",
              "  </tbody>\n",
              "</table>\n",
              "</div>"
            ],
            "text/plain": [
              "                                                 context  \\\n",
              "2602   Monopole Antennas ஒரு உலோக கம்பி போன்ற ஒரு ஒற்...   \n",
              "11041  आधुनिक टायर निर्माण में मूल रूप से रबड़, कपड़े...   \n",
              "108    ஐசக் நியூட்டன் (டிசம்பர் 25, 1642 – மார்ச் 20,...   \n",
              "\n",
              "                                                question         answer_text  \\\n",
              "2602                      செங்குத்து துருவமுனைப்பு என்ன?            மோனோபோல்   \n",
              "11041  कौनसे दो पहियों के वाहन अभी तक वायु से भरे हुए...  साइकिल, मोटरसाइकिल   \n",
              "108                  ஐசக் நியூட்டன் எப்பொழுது பிறந்தார்?   டிசம்பர் 25, 1642   \n",
              "\n",
              "       answer_start                                    id  \n",
              "2602            682  e2444a3a-28de-11ec-83f3-1e003a3c7126  \n",
              "11041           534  e24b93b2-28de-11ec-83f3-1e003a3c7126  \n",
              "108              16  e240c252-28de-11ec-83f3-1e003a3c7126  "
            ]
          },
          "execution_count": 53,
          "metadata": {},
          "output_type": "execute_result"
        }
      ]
    },
    {
      "cell_type": "code",
      "metadata": {
        "id": "dd68b57c"
      },
      "source": [
        "def get_match_label(context, answer_text, answer_start):\n",
        "    \n",
        "    ans_len = len(answer_text)\n",
        "    if answer_text == context[answer_start:answer_start+ans_len]:\n",
        "        return 1\n",
        "    else:\n",
        "        return 0"
      ],
      "id": "dd68b57c",
      "execution_count": null,
      "outputs": []
    },
    {
      "cell_type": "code",
      "metadata": {
        "id": "498a7b3a",
        "outputId": "904f4950-0275-458c-a108-5efa216750af"
      },
      "source": [
        "final_df['label_match'] = final_df.apply(lambda x:get_match_label(x['context'], x['answer_text'], x['answer_start']), axis=1)\n",
        "final_df.sample(2)"
      ],
      "id": "498a7b3a",
      "execution_count": null,
      "outputs": [
        {
          "data": {
            "text/html": [
              "<div>\n",
              "<style scoped>\n",
              "    .dataframe tbody tr th:only-of-type {\n",
              "        vertical-align: middle;\n",
              "    }\n",
              "\n",
              "    .dataframe tbody tr th {\n",
              "        vertical-align: top;\n",
              "    }\n",
              "\n",
              "    .dataframe thead th {\n",
              "        text-align: right;\n",
              "    }\n",
              "</style>\n",
              "<table border=\"1\" class=\"dataframe\">\n",
              "  <thead>\n",
              "    <tr style=\"text-align: right;\">\n",
              "      <th></th>\n",
              "      <th>context</th>\n",
              "      <th>question</th>\n",
              "      <th>answer_text</th>\n",
              "      <th>answer_start</th>\n",
              "      <th>id</th>\n",
              "      <th>label_match</th>\n",
              "    </tr>\n",
              "  </thead>\n",
              "  <tbody>\n",
              "    <tr>\n",
              "      <th>11242</th>\n",
              "      <td>ब्रिटिश सैनिकों ने उस दलदल को घेर लिया, जहां स...</td>\n",
              "      <td>जब ब्रिटिश सैनिक उन्हें घेर रहे थे तो कौन लौट ...</td>\n",
              "      <td>जापानी</td>\n",
              "      <td>48</td>\n",
              "      <td>e24bb5fe-28de-11ec-83f3-1e003a3c7126</td>\n",
              "      <td>1</td>\n",
              "    </tr>\n",
              "    <tr>\n",
              "      <th>7867</th>\n",
              "      <td>एलेन लुईस शलमन बेकर का जन्म २७ अप्रैल १९५३ को ...</td>\n",
              "      <td>उन्होंने अपना बैचलर ऑफ आर्ट्स कब प्राप्त किया?</td>\n",
              "      <td>१९७४</td>\n",
              "      <td>362</td>\n",
              "      <td>e2495b42-28de-11ec-83f3-1e003a3c7126</td>\n",
              "      <td>1</td>\n",
              "    </tr>\n",
              "  </tbody>\n",
              "</table>\n",
              "</div>"
            ],
            "text/plain": [
              "                                                 context  \\\n",
              "11242  ब्रिटिश सैनिकों ने उस दलदल को घेर लिया, जहां स...   \n",
              "7867   एलेन लुईस शलमन बेकर का जन्म २७ अप्रैल १९५३ को ...   \n",
              "\n",
              "                                                question answer_text  \\\n",
              "11242  जब ब्रिटिश सैनिक उन्हें घेर रहे थे तो कौन लौट ...      जापानी   \n",
              "7867      उन्होंने अपना बैचलर ऑफ आर्ट्स कब प्राप्त किया?        १९७४   \n",
              "\n",
              "       answer_start                                    id  label_match  \n",
              "11242            48  e24bb5fe-28de-11ec-83f3-1e003a3c7126            1  \n",
              "7867            362  e2495b42-28de-11ec-83f3-1e003a3c7126            1  "
            ]
          },
          "execution_count": 56,
          "metadata": {},
          "output_type": "execute_result"
        }
      ]
    },
    {
      "cell_type": "code",
      "metadata": {
        "id": "68c0a646",
        "outputId": "c8944e7a-abaf-475a-b084-63c6897d67b0"
      },
      "source": [
        "final_df.label_match.value_counts()"
      ],
      "id": "68c0a646",
      "execution_count": null,
      "outputs": [
        {
          "data": {
            "text/plain": [
              "1    11295\n",
              "Name: label_match, dtype: int64"
            ]
          },
          "execution_count": 59,
          "metadata": {},
          "output_type": "execute_result"
        }
      ]
    },
    {
      "cell_type": "code",
      "metadata": {
        "id": "93874300"
      },
      "source": [
        "final_df = final_df[final_df['label_match'] == 1]"
      ],
      "id": "93874300",
      "execution_count": null,
      "outputs": []
    },
    {
      "cell_type": "code",
      "metadata": {
        "id": "e0c23f02",
        "outputId": "dc5a4fc5-9d95-4462-9acd-19c66e469096"
      },
      "source": [
        "final_target_cols = ['id', 'context', 'question', 'answer_text', 'answer_start']\n",
        "final_df = final_df[final_target_cols]\n",
        "final_df.sample(2)"
      ],
      "id": "e0c23f02",
      "execution_count": null,
      "outputs": [
        {
          "data": {
            "text/html": [
              "<div>\n",
              "<style scoped>\n",
              "    .dataframe tbody tr th:only-of-type {\n",
              "        vertical-align: middle;\n",
              "    }\n",
              "\n",
              "    .dataframe tbody tr th {\n",
              "        vertical-align: top;\n",
              "    }\n",
              "\n",
              "    .dataframe thead th {\n",
              "        text-align: right;\n",
              "    }\n",
              "</style>\n",
              "<table border=\"1\" class=\"dataframe\">\n",
              "  <thead>\n",
              "    <tr style=\"text-align: right;\">\n",
              "      <th></th>\n",
              "      <th>id</th>\n",
              "      <th>context</th>\n",
              "      <th>question</th>\n",
              "      <th>answer_text</th>\n",
              "      <th>answer_start</th>\n",
              "    </tr>\n",
              "  </thead>\n",
              "  <tbody>\n",
              "    <tr>\n",
              "      <th>2070</th>\n",
              "      <td>e2439626-28de-11ec-83f3-1e003a3c7126</td>\n",
              "      <td>பிளாக்-உடல் சிக்கல் 1905 ஆம் ஆண்டில் Rayleigh ...</td>\n",
              "      <td>யார் காலத்தோடு வந்தவர், \"புற ஊதா பேரழிவு\"?</td>\n",
              "      <td>பால் Ehrenfest</td>\n",
              "      <td>274</td>\n",
              "    </tr>\n",
              "    <tr>\n",
              "      <th>8272</th>\n",
              "      <td>e249a5c0-28de-11ec-83f3-1e003a3c7126</td>\n",
              "      <td>\"रुपया\" शब्द का उद्गम संस्कृत के शब्द रुप् या ...</td>\n",
              "      <td>रुपया शब्द का अर्थ क्या है?</td>\n",
              "      <td>कच्ची चांदी</td>\n",
              "      <td>79</td>\n",
              "    </tr>\n",
              "  </tbody>\n",
              "</table>\n",
              "</div>"
            ],
            "text/plain": [
              "                                        id  \\\n",
              "2070  e2439626-28de-11ec-83f3-1e003a3c7126   \n",
              "8272  e249a5c0-28de-11ec-83f3-1e003a3c7126   \n",
              "\n",
              "                                                context  \\\n",
              "2070  பிளாக்-உடல் சிக்கல் 1905 ஆம் ஆண்டில் Rayleigh ...   \n",
              "8272  \"रुपया\" शब्द का उद्गम संस्कृत के शब्द रुप् या ...   \n",
              "\n",
              "                                        question     answer_text  answer_start  \n",
              "2070  யார் காலத்தோடு வந்தவர், \"புற ஊதா பேரழிவு\"?  பால் Ehrenfest           274  \n",
              "8272                 रुपया शब्द का अर्थ क्या है?     कच्ची चांदी            79  "
            ]
          },
          "execution_count": 60,
          "metadata": {},
          "output_type": "execute_result"
        }
      ]
    },
    {
      "cell_type": "code",
      "metadata": {
        "id": "d943b7d1"
      },
      "source": [
        "final_df.to_csv (os.getcwd() + '/../datasets/output/chaii_train_data.csv', index = None, header=True) "
      ],
      "id": "d943b7d1",
      "execution_count": null,
      "outputs": []
    }
  ]
}