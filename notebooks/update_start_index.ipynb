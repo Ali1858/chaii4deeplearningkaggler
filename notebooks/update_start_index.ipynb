{
 "cells": [
  {
   "cell_type": "code",
   "execution_count": 72,
   "id": "6ab4fec5",
   "metadata": {},
   "outputs": [],
   "source": [
    "# _importing required libraries\n",
    "import os\n",
    "import re\n",
    "\n",
    "# _external libraries\n",
    "import pandas as pd"
   ]
  },
  {
   "cell_type": "code",
   "execution_count": 73,
   "id": "d741626f",
   "metadata": {},
   "outputs": [
    {
     "data": {
      "text/html": [
       "<div>\n",
       "<style scoped>\n",
       "    .dataframe tbody tr th:only-of-type {\n",
       "        vertical-align: middle;\n",
       "    }\n",
       "\n",
       "    .dataframe tbody tr th {\n",
       "        vertical-align: top;\n",
       "    }\n",
       "\n",
       "    .dataframe thead th {\n",
       "        text-align: right;\n",
       "    }\n",
       "</style>\n",
       "<table border=\"1\" class=\"dataframe\">\n",
       "  <thead>\n",
       "    <tr style=\"text-align: right;\">\n",
       "      <th></th>\n",
       "      <th>id</th>\n",
       "      <th>context</th>\n",
       "      <th>question</th>\n",
       "      <th>answer_text</th>\n",
       "      <th>answer_start</th>\n",
       "      <th>language</th>\n",
       "    </tr>\n",
       "  </thead>\n",
       "  <tbody>\n",
       "    <tr>\n",
       "      <th>172</th>\n",
       "      <td>eef50e78c</td>\n",
       "      <td>நானோ தொழில்நுட்பம் (Nanotechnology) அல்லது மீந...</td>\n",
       "      <td>நானோ தொழில்நுட்பத்தை கண்டுபிடித்தவர் யார்?</td>\n",
       "      <td>இரிச்சர்டு பீய்ன்மனால்</td>\n",
       "      <td>3202</td>\n",
       "      <td>tamil</td>\n",
       "    </tr>\n",
       "    <tr>\n",
       "      <th>351</th>\n",
       "      <td>6bb0c472d</td>\n",
       "      <td>சிங்கம் என்பது பாலூட்டி வகையைச் சேர்ந்த ஒரு கா...</td>\n",
       "      <td>பெண் சிங்கம் என்று என்ன அழைக்கப்படுகிறது?</td>\n",
       "      <td>சிம்மம்</td>\n",
       "      <td>168</td>\n",
       "      <td>tamil</td>\n",
       "    </tr>\n",
       "    <tr>\n",
       "      <th>740</th>\n",
       "      <td>23d8f8654</td>\n",
       "      <td>राम दास या गुरू राम दास (Punjabi: ਸ੍ਰੀ ਗੁਰੂ ਰਾ...</td>\n",
       "      <td>गुरु राम दास की पत्नी कौन थी?</td>\n",
       "      <td>बीबी भानी जी</td>\n",
       "      <td>1276</td>\n",
       "      <td>hindi</td>\n",
       "    </tr>\n",
       "  </tbody>\n",
       "</table>\n",
       "</div>"
      ],
      "text/plain": [
       "            id                                            context  \\\n",
       "172  eef50e78c  நானோ தொழில்நுட்பம் (Nanotechnology) அல்லது மீந...   \n",
       "351  6bb0c472d  சிங்கம் என்பது பாலூட்டி வகையைச் சேர்ந்த ஒரு கா...   \n",
       "740  23d8f8654  राम दास या गुरू राम दास (Punjabi: ਸ੍ਰੀ ਗੁਰੂ ਰਾ...   \n",
       "\n",
       "                                       question             answer_text  \\\n",
       "172  நானோ தொழில்நுட்பத்தை கண்டுபிடித்தவர் யார்?  இரிச்சர்டு பீய்ன்மனால்   \n",
       "351   பெண் சிங்கம் என்று என்ன அழைக்கப்படுகிறது?                 சிம்மம்   \n",
       "740               गुरु राम दास की पत्नी कौन थी?            बीबी भानी जी   \n",
       "\n",
       "     answer_start language  \n",
       "172          3202    tamil  \n",
       "351           168    tamil  \n",
       "740          1276    hindi  "
      ]
     },
     "execution_count": 73,
     "metadata": {},
     "output_type": "execute_result"
    }
   ],
   "source": [
    "filepath = os.getcwd() + '/../datasets/chaii/train.csv'\n",
    "chaii_df = pd.read_csv(filepath)\n",
    "chaii_df.sample(3)"
   ]
  },
  {
   "cell_type": "code",
   "execution_count": 74,
   "id": "9ad39ac2",
   "metadata": {},
   "outputs": [
    {
     "data": {
      "text/plain": [
       "'abc dfe fdjk dfe'"
      ]
     },
     "execution_count": 74,
     "metadata": {},
     "output_type": "execute_result"
    }
   ],
   "source": [
    "a = ' abc    dfe fdjk dfe'\n",
    "b = ' '.join(a.split())\n",
    "b"
   ]
  },
  {
   "cell_type": "code",
   "execution_count": 75,
   "id": "2ef06e0e",
   "metadata": {},
   "outputs": [
    {
     "name": "stdout",
     "output_type": "stream",
     "text": [
      "dfe found 4 7\n",
      "dfe found 13 16\n"
     ]
    }
   ],
   "source": [
    "for m in re.finditer('dfe', b):\n",
    "    print('dfe found', m.start(), m.end())"
   ]
  },
  {
   "cell_type": "code",
   "execution_count": 76,
   "id": "cd02e0a0",
   "metadata": {},
   "outputs": [],
   "source": [
    "def get_closest_startidx(context, answer_txt, answer_start):\n",
    "    \n",
    "    start_idx = answer_start\n",
    "    for match in re.finditer(answer_txt, context):\n",
    "        if match.start() < answer_start:\n",
    "            start_idx = match.start()\n",
    "        else:\n",
    "            break\n",
    "            \n",
    "    return start_idx"
   ]
  },
  {
   "cell_type": "code",
   "execution_count": 77,
   "id": "b39e2052",
   "metadata": {},
   "outputs": [],
   "source": [
    "def transform_startidx(data):\n",
    "    \n",
    "    context = ' '.join(data['context'].split())\n",
    "    answer_txt = ' '.join(data['answer_text'].split())\n",
    "    answer_start = data['answer_start']\n",
    "    \n",
    "    start_idx = get_closest_startidx(context, answer_txt, answer_start)\n",
    "    #print(answer_start-start_idx)\n",
    "    \n",
    "    return [context, answer_txt, start_idx]"
   ]
  },
  {
   "cell_type": "code",
   "execution_count": 78,
   "id": "594400a5",
   "metadata": {},
   "outputs": [],
   "source": [
    "updated_data = chaii_df.apply(lambda x:transform_startidx(x), axis=1)"
   ]
  },
  {
   "cell_type": "code",
   "execution_count": 79,
   "id": "ad635436",
   "metadata": {},
   "outputs": [],
   "source": [
    "context_list = []\n",
    "answer_text_list = []\n",
    "answer_start_list = []\n",
    "\n",
    "for val in updated_data:\n",
    "    context_list.append(val[0])\n",
    "    answer_text_list.append(val[1])\n",
    "    answer_start_list.append(val[2])"
   ]
  },
  {
   "cell_type": "code",
   "execution_count": 80,
   "id": "9530edda",
   "metadata": {},
   "outputs": [
    {
     "data": {
      "text/html": [
       "<div>\n",
       "<style scoped>\n",
       "    .dataframe tbody tr th:only-of-type {\n",
       "        vertical-align: middle;\n",
       "    }\n",
       "\n",
       "    .dataframe tbody tr th {\n",
       "        vertical-align: top;\n",
       "    }\n",
       "\n",
       "    .dataframe thead th {\n",
       "        text-align: right;\n",
       "    }\n",
       "</style>\n",
       "<table border=\"1\" class=\"dataframe\">\n",
       "  <thead>\n",
       "    <tr style=\"text-align: right;\">\n",
       "      <th></th>\n",
       "      <th>id</th>\n",
       "      <th>context</th>\n",
       "      <th>question</th>\n",
       "      <th>answer_text</th>\n",
       "      <th>answer_start</th>\n",
       "      <th>language</th>\n",
       "    </tr>\n",
       "  </thead>\n",
       "  <tbody>\n",
       "    <tr>\n",
       "      <th>1058</th>\n",
       "      <td>ebe48c5e6</td>\n",
       "      <td>इन्फोसिस लिमिटेड (BSE:, Nasdaq:) एक बहुराष्ट्र...</td>\n",
       "      <td>इंफोसिस लिमिटेड की स्थापना किस वर्ष में हुई थी?</td>\n",
       "      <td>२ जुलाई, १९८१</td>\n",
       "      <td>473</td>\n",
       "      <td>hindi</td>\n",
       "    </tr>\n",
       "    <tr>\n",
       "      <th>177</th>\n",
       "      <td>36a4760ec</td>\n",
       "      <td>செப்பு (Copper) எனப்படுவது உலோக வகையைச் சேர்ந்...</td>\n",
       "      <td>செப்பு எந்த நிறத்தில் இருக்கும்?</td>\n",
       "      <td>சிவந்த</td>\n",
       "      <td>401</td>\n",
       "      <td>tamil</td>\n",
       "    </tr>\n",
       "    <tr>\n",
       "      <th>4</th>\n",
       "      <td>b29c82c22</td>\n",
       "      <td>சூரியக் குடும்பம் சூரியக் குடும்பம் (Solar Sys...</td>\n",
       "      <td>பூமியின் அருகில் உள்ள விண்மீன் எது?</td>\n",
       "      <td>சூரியனும்</td>\n",
       "      <td>582</td>\n",
       "      <td>tamil</td>\n",
       "    </tr>\n",
       "  </tbody>\n",
       "</table>\n",
       "</div>"
      ],
      "text/plain": [
       "             id                                            context  \\\n",
       "1058  ebe48c5e6  इन्फोसिस लिमिटेड (BSE:, Nasdaq:) एक बहुराष्ट्र...   \n",
       "177   36a4760ec  செப்பு (Copper) எனப்படுவது உலோக வகையைச் சேர்ந்...   \n",
       "4     b29c82c22  சூரியக் குடும்பம் சூரியக் குடும்பம் (Solar Sys...   \n",
       "\n",
       "                                             question    answer_text  \\\n",
       "1058  इंफोसिस लिमिटेड की स्थापना किस वर्ष में हुई थी?  २ जुलाई, १९८१   \n",
       "177                  செப்பு எந்த நிறத்தில் இருக்கும்?         சிவந்த   \n",
       "4                 பூமியின் அருகில் உள்ள விண்மீன் எது?      சூரியனும்   \n",
       "\n",
       "      answer_start language  \n",
       "1058           473    hindi  \n",
       "177            401    tamil  \n",
       "4              582    tamil  "
      ]
     },
     "execution_count": 80,
     "metadata": {},
     "output_type": "execute_result"
    }
   ],
   "source": [
    "chaii_df['context'] = context_list\n",
    "chaii_df['answer_text'] = answer_text_list\n",
    "chaii_df['answer_start'] = answer_start_list\n",
    "chaii_df.sample(3)"
   ]
  },
  {
   "cell_type": "code",
   "execution_count": 81,
   "id": "c4a47908",
   "metadata": {},
   "outputs": [],
   "source": [
    "def add_end_index(row):\n",
    "    strt = row['answer_start']\n",
    "    end = strt+len(row['answer_text'])\n",
    "    ans = row['context'][strt:end]\n",
    "    assert(ans==row['answer_text'])\n",
    "    return end"
   ]
  },
  {
   "cell_type": "code",
   "execution_count": 82,
   "id": "e0acdced",
   "metadata": {},
   "outputs": [],
   "source": [
    "chaii_df['answer_end'] = chaii_df.apply(add_end_index,axis=1)"
   ]
  }
 ],
 "metadata": {
  "kernelspec": {
   "display_name": "Python 3",
   "language": "python",
   "name": "python3"
  },
  "language_info": {
   "codemirror_mode": {
    "name": "ipython",
    "version": 3
   },
   "file_extension": ".py",
   "mimetype": "text/x-python",
   "name": "python",
   "nbconvert_exporter": "python",
   "pygments_lexer": "ipython3",
   "version": "3.7.6"
  }
 },
 "nbformat": 4,
 "nbformat_minor": 5
}
